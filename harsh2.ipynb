{
 "cells": [
  {
   "cell_type": "markdown",
   "metadata": {},
   "source": [
    "# Q1.altitude"
   ]
  },
  {
   "cell_type": "code",
   "execution_count": 4,
   "metadata": {},
   "outputs": [
    {
     "name": "stdout",
     "output_type": "stream",
     "text": [
      "enter the altitude:1000\n",
      "safe to land\n"
     ]
    }
   ],
   "source": [
    "\n",
    "altitude = int(input(\"enter the altitude:\"))\n",
    "if altitude == 1000:\n",
    "    print('safe to land')\n",
    "elif altitude >1000 and altitude < 5000:\n",
    "    print(\"come down to 1000ft\")\n",
    "else:\n",
    "    print(\"go around and try later\")\n",
    "    "
   ]
  },
  {
   "cell_type": "markdown",
   "metadata": {},
   "source": [
    "\n",
    "\n",
    "\n",
    "\n",
    "\n",
    "# Q2.prime no"
   ]
  },
  {
   "cell_type": "code",
   "execution_count": 1,
   "metadata": {},
   "outputs": [
    {
     "name": "stdout",
     "output_type": "stream",
     "text": [
      "Output: 2\n",
      "Output: 3\n",
      "Output: 5\n",
      "Output: 7\n",
      "Output: 11\n",
      "Output: 13\n",
      "Output: 17\n",
      "Output: 19\n",
      "Output: 23\n",
      "Output: 29\n",
      "Output: 31\n",
      "Output: 37\n",
      "Output: 41\n",
      "Output: 43\n",
      "Output: 47\n",
      "Output: 53\n",
      "Output: 59\n",
      "Output: 61\n",
      "Output: 67\n",
      "Output: 71\n",
      "Output: 73\n",
      "Output: 79\n",
      "Output: 83\n",
      "Output: 89\n",
      "Output: 97\n",
      "Output: 101\n",
      "Output: 103\n",
      "Output: 107\n",
      "Output: 109\n",
      "Output: 113\n",
      "Output: 127\n",
      "Output: 131\n",
      "Output: 137\n",
      "Output: 139\n",
      "Output: 149\n",
      "Output: 151\n",
      "Output: 157\n",
      "Output: 163\n",
      "Output: 167\n",
      "Output: 173\n",
      "Output: 179\n",
      "Output: 181\n",
      "Output: 191\n",
      "Output: 193\n",
      "Output: 197\n",
      "Output: 199\n"
     ]
    }
   ],
   "source": [
    "for num in range(1, 201):\n",
    "    count = 0\n",
    "    for i in range(2, (num//2 + 1)):\n",
    "        if(num % i == 0):\n",
    "            count = count + 1\n",
    "            break\n",
    "\n",
    "    if (count == 0 and num != 1):\n",
    "        print(\"Output:\",num)"
   ]
  },
  {
   "cell_type": "code",
   "execution_count": null,
   "metadata": {},
   "outputs": [],
   "source": []
  }
 ],
 "metadata": {
  "kernelspec": {
   "display_name": "Python 3",
   "language": "python",
   "name": "python3"
  },
  "language_info": {
   "codemirror_mode": {
    "name": "ipython",
    "version": 3
   },
   "file_extension": ".py",
   "mimetype": "text/x-python",
   "name": "python",
   "nbconvert_exporter": "python",
   "pygments_lexer": "ipython3",
   "version": "3.8.3"
  }
 },
 "nbformat": 4,
 "nbformat_minor": 4
}
