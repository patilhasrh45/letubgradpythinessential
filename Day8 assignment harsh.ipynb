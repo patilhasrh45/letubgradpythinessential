{
 "cells": [
  {
   "cell_type": "markdown",
   "metadata": {},
   "source": [
    "# Q.1 Decorators"
   ]
  },
  {
   "cell_type": "code",
   "execution_count": 1,
   "metadata": {},
   "outputs": [
    {
     "name": "stdout",
     "output_type": "stream",
     "text": [
      "enter the any no:5\n",
      "fibonacci no is: 3\n",
      "enter the any no:25\n",
      "factorial no is: 15511210043330985984000000\n"
     ]
    }
   ],
   "source": [
    "def result(calculate_no):\n",
    "    def basic():\n",
    "        num = int(input(\"enter the any no:\"))\n",
    "        calculate_no(num)\n",
    "    return basic\n",
    "\n",
    "@result\n",
    "def fibo(n):\n",
    "        fn = 0\n",
    "        sn = 1\n",
    "        if n <= 0:\n",
    "            print(\"Incorrect input\")\n",
    "        elif n == 1:\n",
    "            return b\n",
    "        else:\n",
    "            for i in range(2, n):\n",
    "                a = fn + sn\n",
    "                fn = sn\n",
    "                sn = a\n",
    "            print(\"fibonacci no is:\",sn)\n",
    "@result\n",
    "def fact(n):\n",
    "    fact=1\n",
    "    for i in range(1,n+1):\n",
    "        fact = fact*i\n",
    "    print(\"factorial no is:\", fact)\n",
    "\n",
    "fibo()\n",
    "fact()\n"
   ]
  },
  {
   "cell_type": "markdown",
   "metadata": {},
   "source": [
    "# Q.2 try and exception handling.\n"
   ]
  },
  {
   "cell_type": "code",
   "execution_count": 7,
   "metadata": {},
   "outputs": [
    {
     "name": "stdout",
     "output_type": "stream",
     "text": [
      "Error: not writable\n",
      "something wrong \n"
     ]
    }
   ],
   "source": [
    "try:\n",
    "    file = open(\"nik.txt\",\"r\")\n",
    "    file.write(\"hello\")\n",
    "    file.close\n",
    "except Exception as e:\n",
    "    print(\"Error:\",e)\n",
    "finally:\n",
    "    print(\"something wrong \")\n",
    "    "
   ]
  },
  {
   "cell_type": "code",
   "execution_count": null,
   "metadata": {},
   "outputs": [],
   "source": []
  }
 ],
 "metadata": {
  "kernelspec": {
   "display_name": "Python 3",
   "language": "python",
   "name": "python3"
  },
  "language_info": {
   "codemirror_mode": {
    "name": "ipython",
    "version": 3
   },
   "file_extension": ".py",
   "mimetype": "text/x-python",
   "name": "python",
   "nbconvert_exporter": "python",
   "pygments_lexer": "ipython3",
   "version": "3.8.3"
  }
 },
 "nbformat": 4,
 "nbformat_minor": 4
}
