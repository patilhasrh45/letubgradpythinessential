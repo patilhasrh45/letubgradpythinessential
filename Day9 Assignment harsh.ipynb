{
 "cells": [
  {
   "cell_type": "markdown",
   "metadata": {},
   "source": [
    "# Q.1"
   ]
  },
  {
   "cell_type": "code",
   "execution_count": 33,
   "metadata": {},
   "outputs": [
    {
     "name": "stdout",
     "output_type": "stream",
     "text": [
      "Overwriting pri.py\n"
     ]
    }
   ],
   "source": [
    "%%writefile pri.py\n",
    "num = int(input(\"enter any no:\"))\n",
    "def prime(num):\n",
    "    if num > 1:\n",
    "        for i in range(2, num):\n",
    "            if num % i == 0:\n",
    "                print(\"Number is not a prime:\", num)\n",
    "                break\n",
    "        else:\n",
    "            print(\"prime number is:\", num)\n",
    "    else:\n",
    "        print(\"number is not a prime:\", num)\n",
    "        \n",
    "prime(num)        "
   ]
  },
  {
   "cell_type": "code",
   "execution_count": 34,
   "metadata": {},
   "outputs": [
    {
     "name": "stdout",
     "output_type": "stream",
     "text": [
      "************* Module pri\n",
      "pri.py:12:0: C0303: Trailing whitespace (trailing-whitespace)\n",
      "pri.py:13:10: C0303: Trailing whitespace (trailing-whitespace)\n",
      "pri.py:1:0: C0114: Missing module docstring (missing-module-docstring)\n",
      "pri.py:2:0: C0116: Missing function or method docstring (missing-function-docstring)\n",
      "pri.py:2:10: W0621: Redefining name 'num' from outer scope (line 1) (redefined-outer-name)\n",
      "\n",
      "------------------------------------------------------------------\n",
      "\n",
      "Your code has been rated at 5.00/10 (previous run: 5.00/10, +0.00)\n",
      "\n",
      "\n",
      "\n"
     ]
    }
   ],
   "source": [
    "! pylint \"pri.py\""
   ]
  },
  {
   "cell_type": "markdown",
   "metadata": {},
   "source": [
    "# Q.2\n"
   ]
  },
  {
   "cell_type": "code",
   "execution_count": 56,
   "metadata": {},
   "outputs": [
    {
     "name": "stdout",
     "output_type": "stream",
     "text": [
      "amstrong no:\n",
      "1\n",
      "153\n",
      "370\n",
      "371\n",
      "407\n"
     ]
    }
   ],
   "source": [
    "def genrator():\n",
    "    for num in range(1,1000):\n",
    "      temp=num\n",
    "      sum=0\n",
    "      while temp>0:\n",
    "        digit=temp%10\n",
    "        sum=sum+digit**3\n",
    "        temp=temp//10\n",
    "\n",
    "      if sum==num:\n",
    "        yield num\n",
    "\n",
    "\n",
    "        \n",
    "value = genrator()\n",
    "print(\"amstrong no:\")\n",
    "for i in value:\n",
    "    print(i)            "
   ]
  }
 ],
 "metadata": {
  "kernelspec": {
   "display_name": "Python 3",
   "language": "python",
   "name": "python3"
  },
  "language_info": {
   "codemirror_mode": {
    "name": "ipython",
    "version": 3
   },
   "file_extension": ".py",
   "mimetype": "text/x-python",
   "name": "python",
   "nbconvert_exporter": "python",
   "pygments_lexer": "ipython3",
   "version": "3.8.3"
  }
 },
 "nbformat": 4,
 "nbformat_minor": 4
}
