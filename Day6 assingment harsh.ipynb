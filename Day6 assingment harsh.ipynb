{
 "cells": [
  {
   "cell_type": "markdown",
   "metadata": {},
   "source": [
    "# Q.1\n"
   ]
  },
  {
   "cell_type": "code",
   "execution_count": 6,
   "metadata": {},
   "outputs": [
    {
     "name": "stdout",
     "output_type": "stream",
     "text": [
      "Ownername: nikhil\n",
      "enter the amount deposited :10000\n",
      "Amount Deposited 10000.0\n",
      "enter amount to withdrawal :3000\n",
      "you withdrawal 3000.0\n"
     ]
    }
   ],
   "source": [
    "class BankAccount:\n",
    "    def __init__(self):\n",
    "        self.name = 'nikhil'\n",
    "        self.balance = 0\n",
    "\n",
    "    def deposit(self):\n",
    "        amount= float(input(\"enter the amount deposited :\"))\n",
    "        self.balance += amount\n",
    "        print(\"Amount Deposited\",amount)\n",
    "\n",
    "    def withdrawal(self):\n",
    "        amount=float(input(\"enter amount to withdrawal :\"))\n",
    "        if self.balance >= amount:\n",
    "            self.balance = amount\n",
    "            print(\"you withdrawal\",amount)\n",
    "        else:\n",
    "            print(\"\\n Insufficient balance  \")\n",
    "\n",
    "    def diplay(self):\n",
    "        print(\"Ownername:\",self.name)\n",
    "\n",
    "a = BankAccount()\n",
    "a.diplay()\n",
    "a.deposit()\n",
    "a.withdrawal()"
   ]
  },
  {
   "cell_type": "markdown",
   "metadata": {},
   "source": [
    "# Q.2"
   ]
  },
  {
   "cell_type": "code",
   "execution_count": 9,
   "metadata": {},
   "outputs": [
    {
     "name": "stdout",
     "output_type": "stream",
     "text": [
      "volume: 98174.77042468103\n",
      "surface_area: 15707.963267948966\n"
     ]
    }
   ],
   "source": [
    "import math\n",
    "class cone:\n",
    "    def __init__(self):\n",
    "        self.radius = 25\n",
    "        self.height = 150\n",
    "    def volume(self):\n",
    "        print(\"volume:\",math.pi*self.radius*self.radius*(self.height/3))\n",
    "\n",
    "    def surface_area(self):\n",
    "        print(\"surface_area:\",math.pi*self.radius*(self.radius+math.sqrt(self.height*self.height)+math.sqrt(self.radius*self.radius)))\n",
    "\n",
    "a = cone()\n",
    "a.volume()\n",
    "a.surface_area()"
   ]
  }
 ],
 "metadata": {
  "kernelspec": {
   "display_name": "Python 3",
   "language": "python",
   "name": "python3"
  },
  "language_info": {
   "codemirror_mode": {
    "name": "ipython",
    "version": 3
   },
   "file_extension": ".py",
   "mimetype": "text/x-python",
   "name": "python",
   "nbconvert_exporter": "python",
   "pygments_lexer": "ipython3",
   "version": "3.8.3"
  }
 },
 "nbformat": 4,
 "nbformat_minor": 4
}
